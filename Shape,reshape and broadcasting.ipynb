{
 "cells": [
  {
   "cell_type": "markdown",
   "id": "b3b0ccbc",
   "metadata": {},
   "source": [
    "# aritmetic operations on arrays"
   ]
  },
  {
   "cell_type": "code",
   "execution_count": 4,
   "id": "276312b7",
   "metadata": {},
   "outputs": [
    {
     "name": "stdout",
     "output_type": "stream",
     "text": [
      "[5 7 9]\n"
     ]
    }
   ],
   "source": [
    "import numpy as np\n",
    "\n",
    "vara=np.array([1,2,3])\n",
    "varb=np.array([4,5,6])\n",
    "\n",
    "varadd=vara+varb\n",
    "print(varadd)"
   ]
  },
  {
   "cell_type": "code",
   "execution_count": 5,
   "id": "cff48285",
   "metadata": {},
   "outputs": [
    {
     "name": "stdout",
     "output_type": "stream",
     "text": [
      "[3 3 3]\n"
     ]
    }
   ],
   "source": [
    "vara=np.array([1,2,3])\n",
    "varb=np.array([4,5,6])\n",
    "\n",
    "varsub=varb-vara\n",
    "print(varsub)\n"
   ]
  },
  {
   "cell_type": "code",
   "execution_count": 11,
   "id": "3da21ae8",
   "metadata": {},
   "outputs": [
    {
     "name": "stdout",
     "output_type": "stream",
     "text": [
      "[0 5 0]\n"
     ]
    }
   ],
   "source": [
    "vara=np.array([2,98,3])\n",
    "varb=np.array([4,5,6])\n",
    "\n",
    "varmultiply=varb%vara\n",
    "print(varmultiply)"
   ]
  },
  {
   "cell_type": "code",
   "execution_count": 19,
   "id": "9dd6879c",
   "metadata": {},
   "outputs": [
    {
     "name": "stdout",
     "output_type": "stream",
     "text": [
      "[0 0 0]\n"
     ]
    }
   ],
   "source": [
    "vara=np.array([2,9,3])\n",
    "varb=np.array([4,5,6])\n",
    "\n",
    "varrec=np.reciprocal(vara)\n",
    "print(varrec)"
   ]
  },
  {
   "cell_type": "markdown",
   "id": "5deb388d",
   "metadata": {},
   "source": [
    "# 2d array"
   ]
  },
  {
   "cell_type": "code",
   "execution_count": 20,
   "id": "1e90fdef",
   "metadata": {},
   "outputs": [
    {
     "name": "stdout",
     "output_type": "stream",
     "text": [
      "[[ 6 14  9]\n",
      " [ 9 13 13]]\n"
     ]
    }
   ],
   "source": [
    "vara=np.array([[2,9,3],[2,5,4]])\n",
    "varb=np.array([[4,5,6],[7,8,9]])\n",
    "\n",
    "varadd=np.add(vara,varb)\n",
    "print(varadd)"
   ]
  },
  {
   "cell_type": "markdown",
   "id": "8cf9923c",
   "metadata": {},
   "source": [
    "# 3d array"
   ]
  },
  {
   "cell_type": "code",
   "execution_count": 22,
   "id": "3071612b",
   "metadata": {},
   "outputs": [
    {
     "name": "stdout",
     "output_type": "stream",
     "text": [
      "[[[2 9 3]\n",
      "  [2 5 4]\n",
      "  [7 8 9]]]\n",
      "[[[4 5 6]\n",
      "  [7 8 9]\n",
      "  [1 2 3]]]\n",
      "[[[    16  59049    729]\n",
      "  [   128 390625 262144]\n",
      "  [     7     64    729]]]\n"
     ]
    }
   ],
   "source": [
    "vara=np.array([[[2,9,3],[2,5,4],[7,8,9]]])\n",
    "varb=np.array([[[4,5,6],[7,8,9],[1,2,3]]])\n",
    "\n",
    "print(vara)\n",
    "print(varb)\n",
    "\n",
    "varpow=vara**varb\n",
    "print(varpow)"
   ]
  },
  {
   "cell_type": "code",
   "execution_count": 26,
   "id": "7d7b4f11",
   "metadata": {},
   "outputs": [
    {
     "name": "stdout",
     "output_type": "stream",
     "text": [
      "[[[[[[[[[[1 2 3]]]]]]]]]]\n",
      "10\n",
      "[[[[[[[[[[0 1 2]]]]]]]]]]\n"
     ]
    }
   ],
   "source": [
    "vara=np.array([1,2,3],ndmin=10)\n",
    "print(vara)\n",
    "print(vara.ndim)\n",
    "varsub=np.subtract(vara,1)\n",
    "print(varsub)"
   ]
  },
  {
   "cell_type": "code",
   "execution_count": 27,
   "id": "ebc7e425",
   "metadata": {},
   "outputs": [
    {
     "name": "stdout",
     "output_type": "stream",
     "text": [
      "[[[[[[[[[[1 2 3]]]]]]]]]]\n",
      "[[[[[[[[[[1 0 0]]]]]]]]]]\n"
     ]
    }
   ],
   "source": [
    "vara=np.array([1,2,3],ndmin=10)\n",
    "print(vara)\n",
    "\n",
    "varrec=np.reciprocal(vara)\n",
    "print(varrec)"
   ]
  },
  {
   "cell_type": "code",
   "execution_count": 30,
   "id": "5a2da9e4",
   "metadata": {},
   "outputs": [
    {
     "name": "stdout",
     "output_type": "stream",
     "text": [
      "min 1\n",
      "max 8\n",
      "sqrt [1.         1.41421356 1.73205081 2.         2.23606798 2.44948974\n",
      " 2.64575131 2.82842712 1.         1.41421356]\n",
      "argmin 0\n",
      "argmax 7\n",
      "sqrt [1.         1.41421356 1.73205081 2.         2.23606798 2.44948974\n",
      " 2.64575131 2.82842712 1.         1.41421356]\n"
     ]
    }
   ],
   "source": [
    "import numpy as np\n",
    "\n",
    "var=np.array([1,2,3,4,5,6,7,8,1,2])\n",
    "print(\"min\",np.min(var))\n",
    "print(\"max\",np.max(var))\n",
    "print(\"sqrt\",np.sqrt(var))\n",
    "print(\"argmin\",np.argmin(var))\n",
    "print(\"argmax\",np.argmax(var))\n",
    "print(\"sqrt\",np.sqrt(var))"
   ]
  },
  {
   "cell_type": "code",
   "execution_count": 31,
   "id": "ddc165fe",
   "metadata": {},
   "outputs": [
    {
     "name": "stdout",
     "output_type": "stream",
     "text": [
      "[-0.98803162  0.85090352 -0.30481062  0.89399666]\n",
      "[ 0.15425145  0.52532199 -0.95241298 -0.44807362]\n"
     ]
    }
   ],
   "source": [
    "vara=np.array([30,45,60,90])\n",
    "\n",
    "print(np.sin(vara))\n",
    "print(np.cos(vara))"
   ]
  },
  {
   "cell_type": "code",
   "execution_count": 4,
   "id": "6d6d610d",
   "metadata": {},
   "outputs": [
    {
     "ename": "NameError",
     "evalue": "name 'np' is not defined",
     "output_type": "error",
     "traceback": [
      "\u001b[1;31m---------------------------------------------------------------------------\u001b[0m",
      "\u001b[1;31mNameError\u001b[0m                                 Traceback (most recent call last)",
      "Cell \u001b[1;32mIn[4], line 1\u001b[0m\n\u001b[1;32m----> 1\u001b[0m var1\u001b[38;5;241m=\u001b[39m\u001b[43mnp\u001b[49m\u001b[38;5;241m.\u001b[39marray([[\u001b[38;5;241m2\u001b[39m,\u001b[38;5;241m1\u001b[39m,\u001b[38;5;241m3\u001b[39m],[\u001b[38;5;241m9\u001b[39m,\u001b[38;5;241m5\u001b[39m,\u001b[38;5;241m6\u001b[39m]])\n\u001b[0;32m      3\u001b[0m \u001b[38;5;28mprint\u001b[39m(np\u001b[38;5;241m.\u001b[39mmin(var1,axis\u001b[38;5;241m=\u001b[39m\u001b[38;5;241m0\u001b[39m))\n\u001b[0;32m      4\u001b[0m \u001b[38;5;66;03m# print(np.min(var1,axis=1))\u001b[39;00m\n",
      "\u001b[1;31mNameError\u001b[0m: name 'np' is not defined"
     ]
    }
   ],
   "source": [
    "var1=np.array([[2,1,3],[9,5,6]])\n",
    "\n",
    "print(np.min(var1,axis=0))\n",
    "# print(np.min(var1,axis=1))\n"
   ]
  },
  {
   "cell_type": "code",
   "execution_count": 39,
   "id": "e9f10ff5",
   "metadata": {},
   "outputs": [
    {
     "name": "stdout",
     "output_type": "stream",
     "text": [
      "[0.84147098 0.90929743 0.14112001]\n",
      "[ 0.54030231 -0.41614684 -0.9899925 ]\n",
      "[ 1.55740772 -2.18503986 -0.14254654]\n"
     ]
    }
   ],
   "source": [
    "var2=np.array([1,2,3])\n",
    "print(np.sin(var2))\n",
    "print(np.cos(var2))\n",
    "print(np.tan(var2))"
   ]
  },
  {
   "cell_type": "code",
   "execution_count": 40,
   "id": "6bf23e6e",
   "metadata": {},
   "outputs": [
    {
     "name": "stdout",
     "output_type": "stream",
     "text": [
      "[ 4  9 15]\n"
     ]
    }
   ],
   "source": [
    "var3=np.array([4,5,6])\n",
    "print(np.cumsum(var3))"
   ]
  },
  {
   "cell_type": "markdown",
   "id": "665fdf51",
   "metadata": {},
   "source": [
    "# shape and reshaping in array"
   ]
  },
  {
   "cell_type": "raw",
   "id": "276c4fb2",
   "metadata": {},
   "source": [
    "shape"
   ]
  },
  {
   "cell_type": "code",
   "execution_count": 43,
   "id": "9fcfcc62",
   "metadata": {},
   "outputs": [
    {
     "name": "stdout",
     "output_type": "stream",
     "text": [
      "[[1 2 3 4]\n",
      " [1 2 3 4]]\n",
      "\n",
      "(2, 4)\n"
     ]
    }
   ],
   "source": [
    "import numpy as np\n",
    "var1=np.array([[1,2,3,4],[1,2,3,4]])\n",
    "\n",
    "print(var1)\n",
    "print()\n",
    "print(var1.shape)"
   ]
  },
  {
   "cell_type": "code",
   "execution_count": 47,
   "id": "7c0a0f44",
   "metadata": {},
   "outputs": [
    {
     "name": "stdout",
     "output_type": "stream",
     "text": [
      "4\n",
      "(1, 1, 1, 3)\n"
     ]
    }
   ],
   "source": [
    "var2=np.array([1,2,3],ndmin=4)\n",
    "print(var2.ndim)\n",
    "print(var2.shape)"
   ]
  },
  {
   "cell_type": "markdown",
   "id": "3dc1e3ab",
   "metadata": {},
   "source": [
    "# reshape"
   ]
  },
  {
   "cell_type": "code",
   "execution_count": 57,
   "id": "296d8f42",
   "metadata": {},
   "outputs": [
    {
     "name": "stdout",
     "output_type": "stream",
     "text": [
      "[[1 2 3]\n",
      " [4 5 6]\n",
      " [1 2 3]]\n",
      "2\n",
      "(3, 3)\n"
     ]
    }
   ],
   "source": [
    "var2=np.array([1,2,3,4,5,6,1,2,3])\n",
    "x=var2.reshape(3,3)\n",
    "print(x)\n",
    "print(x.ndim)\n",
    "print(x.shape)"
   ]
  },
  {
   "cell_type": "code",
   "execution_count": 65,
   "id": "3f6d326d",
   "metadata": {},
   "outputs": [
    {
     "name": "stdout",
     "output_type": "stream",
     "text": [
      "[ 1  2  3  4  5  6  7  8  9 10 11 12]\n",
      "1\n",
      "3\n",
      "[[[ 1  2]\n",
      "  [ 3  4]\n",
      "  [ 5  6]]\n",
      "\n",
      " [[ 7  8]\n",
      "  [ 9 10]\n",
      "  [11 12]]]\n"
     ]
    }
   ],
   "source": [
    "var3=np.array([1,2,3,4,5,6,7,8,9,10,11,12])\n",
    "print(var3)\n",
    "print(var3.ndim)\n",
    "x1=var3.reshape(2,3,2)\n",
    "print(x1.ndim)\n",
    "print(x1)"
   ]
  },
  {
   "cell_type": "code",
   "execution_count": 66,
   "id": "2a6474a0",
   "metadata": {},
   "outputs": [
    {
     "name": "stdout",
     "output_type": "stream",
     "text": [
      "[ 1  2  3  4  5  6  7  8  9 10 11 12]\n",
      "1\n",
      "3\n",
      "[[[ 1  2]\n",
      "  [ 3  4]\n",
      "  [ 5  6]]\n",
      "\n",
      " [[ 7  8]\n",
      "  [ 9 10]\n",
      "  [11 12]]]\n",
      "\n",
      "[ 1  2  3  4  5  6  7  8  9 10 11 12]\n",
      "1\n"
     ]
    }
   ],
   "source": [
    "var3=np.array([1,2,3,4,5,6,7,8,9,10,11,12])\n",
    "print(var3)\n",
    "print(var3.ndim)\n",
    "x1=var3.reshape(2,3,2)\n",
    "print(x1.ndim)\n",
    "print(x1)\n",
    "print()\n",
    "one=x1.reshape(-1)\n",
    "print(one)\n",
    "print(one.ndim)"
   ]
  },
  {
   "cell_type": "markdown",
   "id": "050269ca",
   "metadata": {},
   "source": [
    "# broadcasting"
   ]
  },
  {
   "cell_type": "code",
   "execution_count": 74,
   "id": "649da4d3",
   "metadata": {},
   "outputs": [
    {
     "name": "stdout",
     "output_type": "stream",
     "text": [
      "[1 2 3]\n",
      "\n",
      "(3,)\n",
      "\n",
      "[[1]\n",
      " [2]\n",
      " [3]]\n",
      "2\n",
      "(3, 1)\n",
      "\n",
      "[[2 3 4]\n",
      " [3 4 5]\n",
      " [4 5 6]]\n"
     ]
    }
   ],
   "source": [
    "import numpy as np\n",
    "\n",
    "var1=np.array([1,2,3])\n",
    "print(var1)\n",
    "print()\n",
    "print(var1.shape)\n",
    "var2=np.array([[1],[2],[3]])\n",
    "print()\n",
    "print(var2)\n",
    "print(var2.ndim)\n",
    "print(var2.shape)\n",
    "print()\n",
    "print(var1+var2)"
   ]
  },
  {
   "cell_type": "code",
   "execution_count": 82,
   "id": "3484e849",
   "metadata": {},
   "outputs": [
    {
     "name": "stdout",
     "output_type": "stream",
     "text": [
      "[[2]\n",
      " [3]]\n",
      "(2, 1)\n",
      "2\n",
      "\n",
      "[[1 2 3]\n",
      " [4 5 6]]\n",
      "(2, 3)\n",
      "2\n",
      "\n",
      "[[3 4 5]\n",
      " [7 8 9]]\n"
     ]
    }
   ],
   "source": [
    "x=np.array([[2],[3]])\n",
    "print(x)\n",
    "print(x.shape)\n",
    "print(x.ndim)\n",
    "print()\n",
    "y=np.array([[1,2,3],[4,5,6]])\n",
    "print(y)\n",
    "print(y.shape)\n",
    "print(y.ndim)\n",
    "print()\n",
    "print(x+y)"
   ]
  }
 ],
 "metadata": {
  "kernelspec": {
   "display_name": "Python 3 (ipykernel)",
   "language": "python",
   "name": "python3"
  },
  "language_info": {
   "codemirror_mode": {
    "name": "ipython",
    "version": 3
   },
   "file_extension": ".py",
   "mimetype": "text/x-python",
   "name": "python",
   "nbconvert_exporter": "python",
   "pygments_lexer": "ipython3",
   "version": "3.11.4"
  }
 },
 "nbformat": 4,
 "nbformat_minor": 5
}
