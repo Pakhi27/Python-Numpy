{
 "cells": [
  {
   "cell_type": "markdown",
   "id": "cb934dce",
   "metadata": {},
   "source": [
    "# Copy and view in arrays"
   ]
  },
  {
   "cell_type": "code",
   "execution_count": 4,
   "id": "56151922",
   "metadata": {},
   "outputs": [
    {
     "name": "stdout",
     "output_type": "stream",
     "text": [
      "[ 1 40  3  4]\n",
      "\n",
      "copy [1 2 3 4]\n"
     ]
    }
   ],
   "source": [
    "import numpy as np\n",
    "var=np.array([1,2,3,4])\n",
    "co=var.copy()\n",
    "var[1]=40\n",
    "print(var)\n",
    "print()\n",
    "print(\"copy\",co)"
   ]
  },
  {
   "cell_type": "code",
   "execution_count": 7,
   "id": "d0dda710",
   "metadata": {},
   "outputs": [
    {
     "name": "stdout",
     "output_type": "stream",
     "text": [
      "x [ 9 40  7  6  5]\n",
      "view [ 9 40  7  6  5]\n"
     ]
    }
   ],
   "source": [
    "x=np.array([9,8,7,6,5])\n",
    "vi=x.view()\n",
    "x[1]=40\n",
    "print(\"x\",x)\n",
    "print(\"view\",vi)"
   ]
  },
  {
   "cell_type": "markdown",
   "id": "83cd8500",
   "metadata": {},
   "source": [
    "# Join and split in arrays"
   ]
  },
  {
   "cell_type": "code",
   "execution_count": 8,
   "id": "8b48760a",
   "metadata": {},
   "outputs": [
    {
     "name": "stdout",
     "output_type": "stream",
     "text": [
      "[1 2 3 4 5 6]\n"
     ]
    }
   ],
   "source": [
    "import numpy as np\n",
    "x=np.array([1,2,3])\n",
    "y=np.array([4,5,6])\n",
    "\n",
    "z=np.concatenate((x,y))\n",
    "print(z)"
   ]
  },
  {
   "cell_type": "code",
   "execution_count": null,
   "id": "d4f89481",
   "metadata": {},
   "outputs": [],
   "source": []
  },
  {
   "cell_type": "code",
   "execution_count": 17,
   "id": "16faccde",
   "metadata": {},
   "outputs": [
    {
     "name": "stdout",
     "output_type": "stream",
     "text": [
      "[[1 2 3]\n",
      " [1 1 2]\n",
      " [4 5 6]\n",
      " [7 8 9]]\n",
      "\n",
      "[[1 2 3 4 5 6]\n",
      " [1 1 2 7 8 9]]\n"
     ]
    }
   ],
   "source": [
    "import numpy as np\n",
    "a=np.array([[1,2,3],[1,1,2]])\n",
    "b=np.array([[4,5,6],[7,8,9]])\n",
    "\n",
    "c=np.concatenate((a,b),axis=0)\n",
    "print(c)\n",
    "print()\n",
    "d=np.concatenate((a,b),axis=1)\n",
    "print(d)"
   ]
  },
  {
   "cell_type": "code",
   "execution_count": 21,
   "id": "009e8814",
   "metadata": {},
   "outputs": [
    {
     "name": "stdout",
     "output_type": "stream",
     "text": [
      "[[[1 2]\n",
      "  [1 1]]\n",
      "\n",
      " [[4 5]\n",
      "  [7 8]]]\n",
      "\n",
      "[[[1 2]\n",
      "  [4 5]]\n",
      "\n",
      " [[1 1]\n",
      "  [7 8]]]\n"
     ]
    }
   ],
   "source": [
    "a=np.array([[1,2],[1,1]])\n",
    "b=np.array([[4,5],[7,8]])\n",
    "\n",
    "c=np.stack((a,b),axis=0)\n",
    "print(c)\n",
    "print()\n",
    "d=np.stack((a,b),axis=1)\n",
    "print(d)\n"
   ]
  },
  {
   "cell_type": "code",
   "execution_count": 24,
   "id": "c328df78",
   "metadata": {},
   "outputs": [
    {
     "name": "stdout",
     "output_type": "stream",
     "text": [
      "[[1 2 3]\n",
      " [4 5 6]]\n",
      "\n",
      "[[1 4]\n",
      " [2 5]\n",
      " [3 6]]\n"
     ]
    }
   ],
   "source": [
    "a=np.array([1,2,3])\n",
    "b=np.array([4,5,6])\n",
    "c=np.stack((a,b),axis=0)\n",
    "print(c)\n",
    "print()\n",
    "d=np.stack((a,b),axis=1)\n",
    "print(d)\n"
   ]
  },
  {
   "cell_type": "code",
   "execution_count": 26,
   "id": "9e075609",
   "metadata": {},
   "outputs": [
    {
     "name": "stdout",
     "output_type": "stream",
     "text": [
      "[1 2 3 4 5 6]\n",
      "\n",
      "[[1 2 3]\n",
      " [4 5 6]]\n",
      "\n",
      "[[[1 4]\n",
      "  [2 5]\n",
      "  [3 6]]]\n",
      "\n"
     ]
    }
   ],
   "source": [
    "a=np.array([1,2,3])\n",
    "b=np.array([4,5,6])\n",
    "c=np.hstack((a,b))#row\n",
    "d=np.vstack((a,b))#col\n",
    "e=np.dstack((a,b))#height\n",
    "print(c)\n",
    "print()\n",
    "print(d)\n",
    "print()\n",
    "print(e)\n",
    "print()"
   ]
  },
  {
   "cell_type": "markdown",
   "id": "0f5feaef",
   "metadata": {},
   "source": [
    "# split the array"
   ]
  },
  {
   "cell_type": "code",
   "execution_count": 30,
   "id": "7ed7d30f",
   "metadata": {},
   "outputs": [
    {
     "name": "stdout",
     "output_type": "stream",
     "text": [
      "[1 2 3 4 5 6]\n",
      "\n",
      "[array([1, 2]), array([3, 4]), array([5, 6])]\n",
      "<class 'list'>\n",
      "[1 2]\n",
      "[3 4]\n"
     ]
    }
   ],
   "source": [
    "import numpy as np\n",
    "var1=np.array([1,2,3,4,5,6])\n",
    "print(var1)\n",
    "print()\n",
    "ar=np.array_split(var1,3)\n",
    "print(ar)\n",
    "print(type(ar))\n",
    "print(ar[0])\n",
    "print(ar[1])"
   ]
  },
  {
   "cell_type": "code",
   "execution_count": 40,
   "id": "be5a230e",
   "metadata": {},
   "outputs": [
    {
     "name": "stdout",
     "output_type": "stream",
     "text": [
      "[[1 2 3]\n",
      " [4 5 6]\n",
      " [7 8 9]]\n",
      "\n",
      "[array([[1, 2, 3]]), array([[4, 5, 6]]), array([[7, 8, 9]])]\n",
      "<class 'list'>\n",
      "[[1 2 3]]\n",
      "[[4 5 6]]\n",
      "[array([[1],\n",
      "       [4],\n",
      "       [7]]), array([[2],\n",
      "       [5],\n",
      "       [8]]), array([[3],\n",
      "       [6],\n",
      "       [9]])]\n",
      "\n",
      "[array([[1, 2, 3]]), array([[4, 5, 6]]), array([[7, 8, 9]])]\n",
      "\n"
     ]
    }
   ],
   "source": [
    "import numpy as np\n",
    "var2=np.array([[1,2,3],[4,5,6],[7,8,9]])\n",
    "print(var2)\n",
    "print()\n",
    "ar1=np.array_split(var2,3)\n",
    "print(ar1)\n",
    "print(type(ar1))\n",
    "print(ar1[0])\n",
    "print(ar1[1])\n",
    "ar2=np.array_split(var2,3,axis=1)\n",
    "print(ar2)\n",
    "print()\n",
    "ar3=np.array_split(var2,3,axis=0)\n",
    "print(ar3)\n",
    "print()"
   ]
  }
 ],
 "metadata": {
  "kernelspec": {
   "display_name": "Python 3 (ipykernel)",
   "language": "python",
   "name": "python3"
  },
  "language_info": {
   "codemirror_mode": {
    "name": "ipython",
    "version": 3
   },
   "file_extension": ".py",
   "mimetype": "text/x-python",
   "name": "python",
   "nbconvert_exporter": "python",
   "pygments_lexer": "ipython3",
   "version": "3.11.4"
  }
 },
 "nbformat": 4,
 "nbformat_minor": 5
}
