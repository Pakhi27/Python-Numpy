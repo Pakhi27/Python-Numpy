{
 "cells": [
  {
   "cell_type": "markdown",
   "id": "5e1c912e",
   "metadata": {},
   "source": [
    "# iteration in arrays"
   ]
  },
  {
   "cell_type": "code",
   "execution_count": 3,
   "id": "437923bd",
   "metadata": {},
   "outputs": [
    {
     "name": "stdout",
     "output_type": "stream",
     "text": [
      "[9, 8, 7, 6, 5, 4, 3]\n",
      "\n",
      "9\n",
      "8\n",
      "7\n",
      "6\n",
      "5\n",
      "4\n",
      "3\n"
     ]
    }
   ],
   "source": [
    "import numpy as np\n",
    "x=[9,8,7,6,5,4,3]\n",
    "print(x)\n",
    "print()\n",
    "for i in x:\n",
    "    print(i)"
   ]
  },
  {
   "cell_type": "code",
   "execution_count": 5,
   "id": "7b898546",
   "metadata": {},
   "outputs": [
    {
     "name": "stdout",
     "output_type": "stream",
     "text": [
      "[[1 2 3 4]\n",
      " [1 2 3 4]]\n",
      "\n",
      "[1 2 3 4]\n",
      "[1 2 3 4]\n"
     ]
    }
   ],
   "source": [
    "var=np.array([[1,2,3,4],[1,2,3,4]])\n",
    "print(var)\n",
    "print()\n",
    "\n",
    "for j in var:\n",
    "    print(j)"
   ]
  },
  {
   "cell_type": "code",
   "execution_count": 7,
   "id": "295497b0",
   "metadata": {},
   "outputs": [
    {
     "name": "stdout",
     "output_type": "stream",
     "text": [
      "[[1 2 3 4]\n",
      " [1 2 3 4]]\n",
      "\n",
      "1\n",
      "2\n",
      "3\n",
      "4\n",
      "1\n",
      "2\n",
      "3\n",
      "4\n"
     ]
    }
   ],
   "source": [
    "var=np.array([[1,2,3,4],[1,2,3,4]])\n",
    "print(var)\n",
    "print()\n",
    "\n",
    "for k in var:\n",
    "    for l in k:\n",
    "      print(l)"
   ]
  },
  {
   "cell_type": "code",
   "execution_count": 9,
   "id": "0490fc38",
   "metadata": {},
   "outputs": [
    {
     "name": "stdout",
     "output_type": "stream",
     "text": [
      "[[[1 2]\n",
      "  [3 4]\n",
      "  [5 6]]]\n",
      "3\n",
      "1\n",
      "2\n",
      "3\n",
      "4\n",
      "5\n",
      "6\n"
     ]
    }
   ],
   "source": [
    "var1=np.array([[[1,2],[3,4],[5,6]]])\n",
    "print(var1)\n",
    "print(var1.ndim)\n",
    "for i in var1:\n",
    "    for j in i:\n",
    "        for k in j:\n",
    "            print(k)"
   ]
  },
  {
   "cell_type": "code",
   "execution_count": 11,
   "id": "7db8b65f",
   "metadata": {},
   "outputs": [
    {
     "name": "stdout",
     "output_type": "stream",
     "text": [
      "[[[[1 2 3]]]]\n",
      "1\n",
      "2\n",
      "3\n"
     ]
    }
   ],
   "source": [
    "var2=np.array([1,2,3],ndmin=4)\n",
    "print(var2)\n",
    "for i in var2:\n",
    "    for j in i:\n",
    "        for k in j:\n",
    "            for l in k:\n",
    "                print(l)"
   ]
  },
  {
   "cell_type": "markdown",
   "id": "0d030438",
   "metadata": {},
   "source": [
    "# function for iteration"
   ]
  },
  {
   "cell_type": "raw",
   "id": "a10a713b",
   "metadata": {},
   "source": []
  },
  {
   "cell_type": "code",
   "execution_count": 17,
   "id": "1c8888ea",
   "metadata": {},
   "outputs": [
    {
     "name": "stdout",
     "output_type": "stream",
     "text": [
      "b'1'\n",
      "b'2'\n",
      "b'3'\n",
      "b'4'\n",
      "b'5'\n",
      "b'6'\n"
     ]
    }
   ],
   "source": [
    "import numpy as np\n",
    "\n",
    "var1 = np.array([[[1, 2], [3, 4], [5, 6]]])\n",
    "for i in np.nditer(var1, flags=['buffered'], op_dtypes=['S']):\n",
    "    print(i)\n"
   ]
  },
  {
   "cell_type": "code",
   "execution_count": 19,
   "id": "a1192363",
   "metadata": {},
   "outputs": [
    {
     "name": "stdout",
     "output_type": "stream",
     "text": [
      "(0, 0, 0) 1\n",
      "(0, 0, 1) 2\n",
      "(0, 1, 0) 3\n",
      "(0, 1, 1) 4\n",
      "(0, 2, 0) 5\n",
      "(0, 2, 1) 6\n"
     ]
    }
   ],
   "source": [
    "import numpy as np\n",
    "\n",
    "var1 = np.array([[[1, 2], [3, 4], [5, 6]]])\n",
    "for i,d in np.ndenumerate(var1):\n",
    "    print(i,d)\n"
   ]
  },
  {
   "cell_type": "code",
   "execution_count": 20,
   "id": "ed1f13ce",
   "metadata": {},
   "outputs": [
    {
     "name": "stdout",
     "output_type": "stream",
     "text": [
      "(0, 0) 1\n",
      "(0, 1) 2\n",
      "(1, 0) 3\n",
      "(1, 1) 4\n"
     ]
    }
   ],
   "source": [
    "import numpy as np\n",
    "\n",
    "var1 = np.array([[1, 2], [3, 4]])\n",
    "for i,d in np.ndenumerate(var1):\n",
    "    print(i,d)"
   ]
  }
 ],
 "metadata": {
  "kernelspec": {
   "display_name": "Python 3 (ipykernel)",
   "language": "python",
   "name": "python3"
  },
  "language_info": {
   "codemirror_mode": {
    "name": "ipython",
    "version": 3
   },
   "file_extension": ".py",
   "mimetype": "text/x-python",
   "name": "python",
   "nbconvert_exporter": "python",
   "pygments_lexer": "ipython3",
   "version": "3.11.4"
  }
 },
 "nbformat": 4,
 "nbformat_minor": 5
}
