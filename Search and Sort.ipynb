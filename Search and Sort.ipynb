{
 "cells": [
  {
   "cell_type": "markdown",
   "id": "347289d0",
   "metadata": {},
   "source": [
    "# Search in array"
   ]
  },
  {
   "cell_type": "code",
   "execution_count": 3,
   "id": "09ef99a3",
   "metadata": {},
   "outputs": [
    {
     "name": "stdout",
     "output_type": "stream",
     "text": [
      "(array([1, 4, 6], dtype=int64),)\n",
      "(array([1, 3, 4, 6, 8], dtype=int64),)\n"
     ]
    }
   ],
   "source": [
    "import numpy as np\n",
    "\n",
    "var=np.array([1,2,3,4,2,5,2,5,6,7])\n",
    "#             0,1,2,3,4,5,6,7,8,9\n",
    "\n",
    "x=np.where( var==2 )\n",
    "y=np.where((var%2)==0)\n",
    "\n",
    "print(x)\n",
    "print(y)"
   ]
  },
  {
   "cell_type": "markdown",
   "id": "20849f6b",
   "metadata": {},
   "source": [
    "# search sorted array"
   ]
  },
  {
   "cell_type": "code",
   "execution_count": 11,
   "id": "2e639554",
   "metadata": {},
   "outputs": [
    {
     "name": "stdout",
     "output_type": "stream",
     "text": [
      "[4 4 4]\n",
      "6\n"
     ]
    }
   ],
   "source": [
    "var1=np.array([1,2,3,4,7,8,9])\n",
    "#              0,1,2,3,4,5,6,7\n",
    "var2=np.searchsorted(var1,[5,6,7])\n",
    "print(var2)\n",
    "var3=np.searchsorted(var1,9)\n",
    "print(var3)"
   ]
  },
  {
   "cell_type": "markdown",
   "id": "9baae35a",
   "metadata": {},
   "source": [
    "# sort array"
   ]
  },
  {
   "cell_type": "code",
   "execution_count": 12,
   "id": "c620de75",
   "metadata": {},
   "outputs": [
    {
     "name": "stdout",
     "output_type": "stream",
     "text": [
      "[ 1  3  7  9 22]\n"
     ]
    }
   ],
   "source": [
    "x=np.array([1,22,3,9,7])\n",
    "\n",
    "print(np.sort(x))"
   ]
  },
  {
   "cell_type": "code",
   "execution_count": 14,
   "id": "c3909a31",
   "metadata": {},
   "outputs": [
    {
     "name": "stdout",
     "output_type": "stream",
     "text": [
      "['a' 'b' 'c' 'd' 's']\n"
     ]
    }
   ],
   "source": [
    "y=np.array([\"a\",\"s\",\"c\",\"b\",\"d\"])\n",
    "\n",
    "print(np.sort(y))"
   ]
  },
  {
   "cell_type": "code",
   "execution_count": 15,
   "id": "394debce",
   "metadata": {},
   "outputs": [
    {
     "name": "stdout",
     "output_type": "stream",
     "text": [
      "[[ 22 100]\n",
      " [  9  39]\n",
      " [  7   8]]\n"
     ]
    }
   ],
   "source": [
    "a=np.array([[100,22],[39,9],[7,8]])\n",
    "\n",
    "print(np.sort(a))"
   ]
  },
  {
   "cell_type": "markdown",
   "id": "5839dea3",
   "metadata": {},
   "source": [
    "# Filter array"
   ]
  },
  {
   "cell_type": "code",
   "execution_count": 17,
   "id": "17e6797d",
   "metadata": {},
   "outputs": [
    {
     "name": "stdout",
     "output_type": "stream",
     "text": [
      "[1 3 4]\n",
      "<class 'numpy.ndarray'>\n"
     ]
    }
   ],
   "source": [
    "var1=np.array([1,2,3,4,5])\n",
    "\n",
    "filter=[True,False,True,True,False]\n",
    "\n",
    "new_a=var1[filter]\n",
    "print(new_a)\n",
    "print(type(new_a))"
   ]
  }
 ],
 "metadata": {
  "kernelspec": {
   "display_name": "Python 3 (ipykernel)",
   "language": "python",
   "name": "python3"
  },
  "language_info": {
   "codemirror_mode": {
    "name": "ipython",
    "version": 3
   },
   "file_extension": ".py",
   "mimetype": "text/x-python",
   "name": "python",
   "nbconvert_exporter": "python",
   "pygments_lexer": "ipython3",
   "version": "3.11.4"
  }
 },
 "nbformat": 4,
 "nbformat_minor": 5
}
