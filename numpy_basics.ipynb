{
 "cells": [
  {
   "cell_type": "code",
   "execution_count": 1,
   "id": "44f8952f",
   "metadata": {},
   "outputs": [
    {
     "name": "stdout",
     "output_type": "stream",
     "text": [
      "data type int32\n"
     ]
    }
   ],
   "source": [
    "import numpy as np\n",
    "\n",
    "var=np.array([1,2,3])\n",
    "\n",
    "print(\"data type\",var.dtype)"
   ]
  },
  {
   "cell_type": "code",
   "execution_count": 3,
   "id": "9dd29376",
   "metadata": {},
   "outputs": [
    {
     "name": "stdout",
     "output_type": "stream",
     "text": [
      "data type <U1\n"
     ]
    }
   ],
   "source": [
    "import numpy as np\n",
    "\n",
    "var=np.array([\"a\",\"p\",\"i\"])\n",
    "\n",
    "print(\"data type\",var.dtype)"
   ]
  },
  {
   "cell_type": "code",
   "execution_count": 4,
   "id": "227d957d",
   "metadata": {},
   "outputs": [
    {
     "name": "stdout",
     "output_type": "stream",
     "text": [
      "data type <U11\n"
     ]
    }
   ],
   "source": [
    "import numpy as np\n",
    "\n",
    "var=np.array([\"a\",1,\"i\"])\n",
    "\n",
    "print(\"data type\",var.dtype)"
   ]
  },
  {
   "cell_type": "markdown",
   "id": "77931f66",
   "metadata": {},
   "source": [
    "# changing data type"
   ]
  },
  {
   "cell_type": "code",
   "execution_count": 7,
   "id": "e85b8797",
   "metadata": {},
   "outputs": [
    {
     "name": "stdout",
     "output_type": "stream",
     "text": [
      "data type int8\n",
      "[1 2 3 4]\n"
     ]
    }
   ],
   "source": [
    "x=np.array([1,2,3,4],dtype=np.int8)\n",
    "print(\"data type\",x.dtype)\n",
    "print(x)"
   ]
  },
  {
   "cell_type": "code",
   "execution_count": 9,
   "id": "14aafca6",
   "metadata": {},
   "outputs": [
    {
     "name": "stdout",
     "output_type": "stream",
     "text": [
      "data type float32\n",
      "[11. 12. 13. 14.]\n"
     ]
    }
   ],
   "source": [
    "x1=np.array([11,12,13,14],dtype=\"f\")\n",
    "print(\"data type\",x1.dtype)\n",
    "print(x1)"
   ]
  },
  {
   "cell_type": "code",
   "execution_count": 11,
   "id": "f75e5cae",
   "metadata": {},
   "outputs": [
    {
     "name": "stdout",
     "output_type": "stream",
     "text": [
      "data type int32\n",
      "[11 12 13 14]\n",
      "[11. 12. 13. 14.]\n",
      "data type float32\n"
     ]
    }
   ],
   "source": [
    "x2=np.array([11,12,13,14])\n",
    "\n",
    "new=np.float32(x2)\n",
    "print(\"data type\",x2.dtype)\n",
    "print(x2)\n",
    "print(new)\n",
    "print(\"data type\",new.dtype)"
   ]
  },
  {
   "cell_type": "code",
   "execution_count": 13,
   "id": "aa7dd358",
   "metadata": {},
   "outputs": [
    {
     "name": "stdout",
     "output_type": "stream",
     "text": [
      "data type int32\n",
      "[11 12 13 14]\n",
      "[11. 12. 13. 14.]\n",
      "data type float32\n",
      "[11 12 13 14]\n",
      "data type int32\n"
     ]
    }
   ],
   "source": [
    "x2=np.array([11,12,13,14])\n",
    "\n",
    "new=np.float32(x2)\n",
    "\n",
    "new_one=np.int_(new)\n",
    "\n",
    "print(\"data type\",x2.dtype)\n",
    "print(x2)\n",
    "print(new)\n",
    "print(\"data type\",new.dtype)\n",
    "print(new_one)\n",
    "print(\"data type\",new_one.dtype)"
   ]
  },
  {
   "cell_type": "code",
   "execution_count": 18,
   "id": "6a57cf65",
   "metadata": {},
   "outputs": [
    {
     "name": "stdout",
     "output_type": "stream",
     "text": [
      "[1 2 3 4]\n",
      "[ True  True  True  True]\n"
     ]
    }
   ],
   "source": [
    "x3=np.array([1,2,3,4])\n",
    "\n",
    "new_1=x3.astype(bool)\n",
    "\n",
    "print(x3)\n",
    "print(new_1)"
   ]
  },
  {
   "cell_type": "code",
   "execution_count": 2,
   "id": "0c8227d1",
   "metadata": {},
   "outputs": [
    {
     "name": "stdout",
     "output_type": "stream",
     "text": [
      "data type float64\n"
     ]
    }
   ],
   "source": [
    "import numpy as np\n",
    "\n",
    "var=np.array([1.2,2.5,3.0])\n",
    "\n",
    "print(\"data type\",var.dtype)"
   ]
  }
 ],
 "metadata": {
  "kernelspec": {
   "display_name": "Python 3 (ipykernel)",
   "language": "python",
   "name": "python3"
  },
  "language_info": {
   "codemirror_mode": {
    "name": "ipython",
    "version": 3
   },
   "file_extension": ".py",
   "mimetype": "text/x-python",
   "name": "python",
   "nbconvert_exporter": "python",
   "pygments_lexer": "ipython3",
   "version": "3.11.4"
  }
 },
 "nbformat": 4,
 "nbformat_minor": 5
}
