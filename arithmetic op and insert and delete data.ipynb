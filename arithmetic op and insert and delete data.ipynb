{
 "cells": [
  {
   "cell_type": "markdown",
   "id": "8b1938ad",
   "metadata": {},
   "source": [
    "# Arithmeic functions"
   ]
  },
  {
   "cell_type": "markdown",
   "id": "e5a96f96",
   "metadata": {},
   "source": [
    "# Shuffle"
   ]
  },
  {
   "cell_type": "code",
   "execution_count": 8,
   "id": "9b4a28cb",
   "metadata": {},
   "outputs": [
    {
     "name": "stdout",
     "output_type": "stream",
     "text": [
      "[3 1 2 5 4]\n"
     ]
    }
   ],
   "source": [
    "import numpy as np\n",
    "var=np.array([1,2,3,4,5])\n",
    "np.random.shuffle(var)\n",
    "print(var)"
   ]
  },
  {
   "cell_type": "markdown",
   "id": "8d83e52f",
   "metadata": {},
   "source": [
    "# unique"
   ]
  },
  {
   "cell_type": "code",
   "execution_count": 11,
   "id": "1024dc93",
   "metadata": {},
   "outputs": [
    {
     "name": "stdout",
     "output_type": "stream",
     "text": [
      "[1 2 3 4 5 6 7]\n",
      "(array([1, 2, 3, 4, 5, 6, 7]), array([0, 1, 2, 3, 5, 7, 9], dtype=int64), array([1, 4, 1, 1, 1, 1, 1], dtype=int64))\n"
     ]
    }
   ],
   "source": [
    "var1=np.array([1,2,3,4,2,5,2,6,2,7])\n",
    "\n",
    "x=np.unique(var1)\n",
    "y=np.unique(var1,return_index=True,return_counts=True)\n",
    "\n",
    "print(x)\n",
    "print(y)"
   ]
  },
  {
   "cell_type": "code",
   "execution_count": 15,
   "id": "17127f56",
   "metadata": {},
   "outputs": [
    {
     "name": "stdout",
     "output_type": "stream",
     "text": [
      "[[1 2]\n",
      " [3 4]\n",
      " [5 6]]\n"
     ]
    }
   ],
   "source": [
    "var2=np.array([1,2,3,4,5,6])\n",
    "y=np.resize(var2,(3,2))\n",
    "print(y)"
   ]
  },
  {
   "cell_type": "markdown",
   "id": "087e293d",
   "metadata": {},
   "source": [
    "# Flatten "
   ]
  },
  {
   "cell_type": "code",
   "execution_count": 21,
   "id": "97767199",
   "metadata": {},
   "outputs": [
    {
     "name": "stdout",
     "output_type": "stream",
     "text": [
      "[1 2 3 4 5 6]\n",
      "flatten [1 3 5 2 4 6]\n",
      "ravel [1 3 5 2 4 6]\n",
      "[1 2 3 4 5 6]\n",
      "[1 2 3 4 5 6]\n"
     ]
    }
   ],
   "source": [
    "var2=np.array([1,2,3,4,5,6])\n",
    "y=np.resize(var2,(3,2))\n",
    "print(y.flatten())\n",
    "print(\"flatten\",y.flatten(order=\"F\"))\n",
    "print(\"ravel\",np.ravel(y,order=\"F\"))\n",
    "print(y.flatten(order=\"A\"))\n",
    "print(y.flatten(order=\"K\"))"
   ]
  },
  {
   "cell_type": "markdown",
   "id": "6d6f48cd",
   "metadata": {},
   "source": [
    "# Inserting data into array"
   ]
  },
  {
   "cell_type": "code",
   "execution_count": 29,
   "id": "32659600",
   "metadata": {},
   "outputs": [
    {
     "name": "stdout",
     "output_type": "stream",
     "text": [
      "[1 2 3 4]\n",
      "int32\n",
      "<class 'numpy.ndarray'>\n",
      "[ 1  2 40  3  4]\n",
      "[ 1  2 40  3  4 40]\n"
     ]
    }
   ],
   "source": [
    "import numpy as np\n",
    "x=np.array([1,2,3,4])\n",
    "print(x)\n",
    "print(x.dtype)\n",
    "print(type(x))\n",
    "new_a=np.insert(x,2,40)\n",
    "print(new_a)\n",
    "new_1=np.insert(x,(2,4),40)\n",
    "print(new_1)"
   ]
  },
  {
   "cell_type": "code",
   "execution_count": 38,
   "id": "ec42c7da",
   "metadata": {},
   "outputs": [
    {
     "name": "stdout",
     "output_type": "stream",
     "text": [
      "[[1 2 3]\n",
      " [4 5 6]\n",
      " [6 6 6]]\n",
      "\n",
      "[[ 1  2  3]\n",
      " [ 4  5  6]\n",
      " [22 23 24]]\n",
      "[1.  2.  3.  4.  5.  6.  6.5]\n",
      "\n",
      "[[ 1  2  3]\n",
      " [ 4  5  6]\n",
      " [45 44 23]]\n"
     ]
    }
   ],
   "source": [
    "var1=np.array([[1,2,3],[4,5,6]])\n",
    "y=np.insert(var1,2,6,axis=0)\n",
    "print(y)\n",
    "print()\n",
    "z=np.insert(var1,2,[22,23,24],axis=0)\n",
    "print(z)\n",
    "w=np.append(var1,6.5)\n",
    "print(w)\n",
    "print()\n",
    "a=np.append(var1,[(45,44,23)],axis=0)\n",
    "print(a)"
   ]
  },
  {
   "cell_type": "markdown",
   "id": "fb5bac1e",
   "metadata": {},
   "source": [
    "# Delete"
   ]
  },
  {
   "cell_type": "code",
   "execution_count": 39,
   "id": "7de575de",
   "metadata": {},
   "outputs": [
    {
     "name": "stdout",
     "output_type": "stream",
     "text": [
      "[1 3 4]\n"
     ]
    }
   ],
   "source": [
    "a=np.array([1,2,3,4])\n",
    "b=np.delete(a,1)\n",
    "print(b)"
   ]
  }
 ],
 "metadata": {
  "kernelspec": {
   "display_name": "Python 3 (ipykernel)",
   "language": "python",
   "name": "python3"
  },
  "language_info": {
   "codemirror_mode": {
    "name": "ipython",
    "version": 3
   },
   "file_extension": ".py",
   "mimetype": "text/x-python",
   "name": "python",
   "nbconvert_exporter": "python",
   "pygments_lexer": "ipython3",
   "version": "3.11.4"
  }
 },
 "nbformat": 4,
 "nbformat_minor": 5
}
