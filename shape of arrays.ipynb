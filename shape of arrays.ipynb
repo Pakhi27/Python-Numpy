{
 "cells": [
  {
   "cell_type": "markdown",
   "id": "ec7216d3",
   "metadata": {},
   "source": [
    "# aritmetic operations on arrays"
   ]
  },
  {
   "cell_type": "code",
   "execution_count": 4,
   "id": "5bc37c84",
   "metadata": {},
   "outputs": [
    {
     "name": "stdout",
     "output_type": "stream",
     "text": [
      "[5 7 9]\n"
     ]
    }
   ],
   "source": [
    "import numpy as np\n",
    "\n",
    "vara=np.array([1,2,3])\n",
    "varb=np.array([4,5,6])\n",
    "\n",
    "varadd=vara+varb\n",
    "print(varadd)"
   ]
  },
  {
   "cell_type": "code",
   "execution_count": 5,
   "id": "e762a2e0",
   "metadata": {},
   "outputs": [
    {
     "name": "stdout",
     "output_type": "stream",
     "text": [
      "[3 3 3]\n"
     ]
    }
   ],
   "source": [
    "vara=np.array([1,2,3])\n",
    "varb=np.array([4,5,6])\n",
    "\n",
    "varsub=varb-vara\n",
    "print(varsub)\n"
   ]
  },
  {
   "cell_type": "code",
   "execution_count": 11,
   "id": "dd2cdc32",
   "metadata": {},
   "outputs": [
    {
     "name": "stdout",
     "output_type": "stream",
     "text": [
      "[0 5 0]\n"
     ]
    }
   ],
   "source": [
    "vara=np.array([2,98,3])\n",
    "varb=np.array([4,5,6])\n",
    "\n",
    "varmultiply=varb%vara\n",
    "print(varmultiply)"
   ]
  },
  {
   "cell_type": "code",
   "execution_count": 19,
   "id": "3305f644",
   "metadata": {},
   "outputs": [
    {
     "name": "stdout",
     "output_type": "stream",
     "text": [
      "[0 0 0]\n"
     ]
    }
   ],
   "source": [
    "vara=np.array([2,9,3])\n",
    "varb=np.array([4,5,6])\n",
    "\n",
    "varrec=np.reciprocal(vara)\n",
    "print(varrec)"
   ]
  },
  {
   "cell_type": "markdown",
   "id": "13092282",
   "metadata": {},
   "source": [
    "# 2d array"
   ]
  },
  {
   "cell_type": "code",
   "execution_count": 20,
   "id": "d456484c",
   "metadata": {},
   "outputs": [
    {
     "name": "stdout",
     "output_type": "stream",
     "text": [
      "[[ 6 14  9]\n",
      " [ 9 13 13]]\n"
     ]
    }
   ],
   "source": [
    "vara=np.array([[2,9,3],[2,5,4]])\n",
    "varb=np.array([[4,5,6],[7,8,9]])\n",
    "\n",
    "varadd=np.add(vara,varb)\n",
    "print(varadd)"
   ]
  },
  {
   "cell_type": "markdown",
   "id": "8474f18c",
   "metadata": {},
   "source": [
    "# 3d array"
   ]
  },
  {
   "cell_type": "code",
   "execution_count": 22,
   "id": "07ad94a7",
   "metadata": {},
   "outputs": [
    {
     "name": "stdout",
     "output_type": "stream",
     "text": [
      "[[[2 9 3]\n",
      "  [2 5 4]\n",
      "  [7 8 9]]]\n",
      "[[[4 5 6]\n",
      "  [7 8 9]\n",
      "  [1 2 3]]]\n",
      "[[[    16  59049    729]\n",
      "  [   128 390625 262144]\n",
      "  [     7     64    729]]]\n"
     ]
    }
   ],
   "source": [
    "vara=np.array([[[2,9,3],[2,5,4],[7,8,9]]])\n",
    "varb=np.array([[[4,5,6],[7,8,9],[1,2,3]]])\n",
    "print(vara)\n",
    "print(varb)\n",
    "\n",
    "varpow=vara**varb\n",
    "print(varpow)"
   ]
  },
  {
   "cell_type": "code",
   "execution_count": 26,
   "id": "4633a0aa",
   "metadata": {},
   "outputs": [
    {
     "name": "stdout",
     "output_type": "stream",
     "text": [
      "[[[[[[[[[[1 2 3]]]]]]]]]]\n",
      "10\n",
      "[[[[[[[[[[0 1 2]]]]]]]]]]\n"
     ]
    }
   ],
   "source": [
    "vara=np.array([1,2,3],ndmin=10)\n",
    "print(vara)\n",
    "print(vara.ndim)\n",
    "varsub=np.subtract(vara,1)\n",
    "print(varsub)"
   ]
  },
  {
   "cell_type": "code",
   "execution_count": 27,
   "id": "a13af558",
   "metadata": {},
   "outputs": [
    {
     "name": "stdout",
     "output_type": "stream",
     "text": [
      "[[[[[[[[[[1 2 3]]]]]]]]]]\n",
      "[[[[[[[[[[1 0 0]]]]]]]]]]\n"
     ]
    }
   ],
   "source": [
    "vara=np.array([1,2,3],ndmin=10)\n",
    "print(vara)\n",
    "\n",
    "varrec=np.reciprocal(vara)\n",
    "print(varrec)"
   ]
  },
  {
   "cell_type": "code",
   "execution_count": 30,
   "id": "bbb0bc43",
   "metadata": {},
   "outputs": [
    {
     "name": "stdout",
     "output_type": "stream",
     "text": [
      "min 1\n",
      "max 8\n",
      "sqrt [1.         1.41421356 1.73205081 2.         2.23606798 2.44948974\n",
      " 2.64575131 2.82842712 1.         1.41421356]\n",
      "argmin 0\n",
      "argmax 7\n",
      "sqrt [1.         1.41421356 1.73205081 2.         2.23606798 2.44948974\n",
      " 2.64575131 2.82842712 1.         1.41421356]\n"
     ]
    }
   ],
   "source": [
    "import numpy as np\n",
    "\n",
    "var=np.array([1,2,3,4,5,6,7,8,1,2])\n",
    "print(\"min\",np.min(var))\n",
    "print(\"max\",np.max(var))\n",
    "print(\"sqrt\",np.sqrt(var))\n",
    "print(\"argmin\",np.argmin(var))\n",
    "print(\"argmax\",np.argmax(var))\n",
    "print(\"sqrt\",np.sqrt(var))"
   ]
  },
  {
   "cell_type": "code",
   "execution_count": 31,
   "id": "385224a1",
   "metadata": {},
   "outputs": [
    {
     "name": "stdout",
     "output_type": "stream",
     "text": [
      "[-0.98803162  0.85090352 -0.30481062  0.89399666]\n",
      "[ 0.15425145  0.52532199 -0.95241298 -0.44807362]\n"
     ]
    }
   ],
   "source": [
    "vara=np.array([30,45,60,90])\n",
    "\n",
    "print(np.sin(vara))\n",
    "print(np.cos(vara))"
   ]
  },
  {
   "cell_type": "code",
   "execution_count": 36,
   "id": "4efd84e6",
   "metadata": {},
   "outputs": [
    {
     "name": "stdout",
     "output_type": "stream",
     "text": [
      "[2 1 3]\n"
     ]
    }
   ],
   "source": [
    "var1=np.array([[2,1,3],[9,5,6]])\n",
    "\n",
    "print(np.min(var1,axis=0))\n"
   ]
  },
  {
   "cell_type": "code",
   "execution_count": 39,
   "id": "8ef48524",
   "metadata": {},
   "outputs": [
    {
     "name": "stdout",
     "output_type": "stream",
     "text": [
      "[0.84147098 0.90929743 0.14112001]\n",
      "[ 0.54030231 -0.41614684 -0.9899925 ]\n",
      "[ 1.55740772 -2.18503986 -0.14254654]\n"
     ]
    }
   ],
   "source": [
    "var2=np.array([1,2,3])\n",
    "print(np.sin(var2))\n",
    "print(np.cos(var2))\n",
    "print(np.tan(var2))"
   ]
  },
  {
   "cell_type": "code",
   "execution_count": 40,
   "id": "245fa4ff",
   "metadata": {},
   "outputs": [
    {
     "name": "stdout",
     "output_type": "stream",
     "text": [
      "[ 4  9 15]\n"
     ]
    }
   ],
   "source": [
    "var3=np.array([4,5,6])\n",
    "print(np.cumsum(var3))"
   ]
  },
  {
   "cell_type": "markdown",
   "id": "a243986c",
   "metadata": {},
   "source": [
    "# shape and reshaping in array"
   ]
  },
  {
   "cell_type": "raw",
   "id": "77134073",
   "metadata": {},
   "source": [
    "shape"
   ]
  },
  {
   "cell_type": "code",
   "execution_count": 43,
   "id": "9e374fa4",
   "metadata": {},
   "outputs": [
    {
     "name": "stdout",
     "output_type": "stream",
     "text": [
      "[[1 2 3 4]\n",
      " [1 2 3 4]]\n",
      "\n",
      "(2, 4)\n"
     ]
    }
   ],
   "source": [
    "import numpy as np\n",
    "var1=np.array([[1,2,3,4],[1,2,3,4]])\n",
    "\n",
    "print(var1)\n",
    "print()\n",
    "print(var1.shape)"
   ]
  },
  {
   "cell_type": "code",
   "execution_count": 47,
   "id": "0ca9ac6d",
   "metadata": {},
   "outputs": [
    {
     "name": "stdout",
     "output_type": "stream",
     "text": [
      "4\n",
      "(1, 1, 1, 3)\n"
     ]
    }
   ],
   "source": [
    "var2=np.array([1,2,3],ndmin=4)\n",
    "print(var2.ndim)\n",
    "print(var2.shape)"
   ]
  },
  {
   "cell_type": "markdown",
   "id": "c3763e60",
   "metadata": {},
   "source": [
    "# reshape"
   ]
  },
  {
   "cell_type": "code",
   "execution_count": 57,
   "id": "185a4e2a",
   "metadata": {},
   "outputs": [
    {
     "name": "stdout",
     "output_type": "stream",
     "text": [
      "[[1 2 3]\n",
      " [4 5 6]\n",
      " [1 2 3]]\n",
      "2\n",
      "(3, 3)\n"
     ]
    }
   ],
   "source": [
    "var2=np.array([1,2,3,4,5,6,1,2,3])\n",
    "x=var2.reshape(3,3)\n",
    "print(x)\n",
    "print(x.ndim)\n",
    "print(x.shape)"
   ]
  },
  {
   "cell_type": "code",
   "execution_count": 65,
   "id": "33c20923",
   "metadata": {},
   "outputs": [
    {
     "name": "stdout",
     "output_type": "stream",
     "text": [
      "[ 1  2  3  4  5  6  7  8  9 10 11 12]\n",
      "1\n",
      "3\n",
      "[[[ 1  2]\n",
      "  [ 3  4]\n",
      "  [ 5  6]]\n",
      "\n",
      " [[ 7  8]\n",
      "  [ 9 10]\n",
      "  [11 12]]]\n"
     ]
    }
   ],
   "source": [
    "var3=np.array([1,2,3,4,5,6,7,8,9,10,11,12])\n",
    "print(var3)\n",
    "print(var3.ndim)\n",
    "x1=var3.reshape(2,3,2)\n",
    "print(x1.ndim)\n",
    "print(x1)"
   ]
  },
  {
   "cell_type": "code",
   "execution_count": 66,
   "id": "918a5b06",
   "metadata": {},
   "outputs": [
    {
     "name": "stdout",
     "output_type": "stream",
     "text": [
      "[ 1  2  3  4  5  6  7  8  9 10 11 12]\n",
      "1\n",
      "3\n",
      "[[[ 1  2]\n",
      "  [ 3  4]\n",
      "  [ 5  6]]\n",
      "\n",
      " [[ 7  8]\n",
      "  [ 9 10]\n",
      "  [11 12]]]\n",
      "\n",
      "[ 1  2  3  4  5  6  7  8  9 10 11 12]\n",
      "1\n"
     ]
    }
   ],
   "source": [
    "var3=np.array([1,2,3,4,5,6,7,8,9,10,11,12])\n",
    "print(var3)\n",
    "print(var3.ndim)\n",
    "x1=var3.reshape(2,3,2)\n",
    "print(x1.ndim)\n",
    "print(x1)\n",
    "print()\n",
    "one=x1.reshape(-1)\n",
    "print(one)\n",
    "print(one.ndim)"
   ]
  },
  {
   "cell_type": "markdown",
   "id": "e7ddd721",
   "metadata": {},
   "source": [
    "# broadcasting"
   ]
  },
  {
   "cell_type": "code",
   "execution_count": 74,
   "id": "e077b564",
   "metadata": {},
   "outputs": [
    {
     "name": "stdout",
     "output_type": "stream",
     "text": [
      "[1 2 3]\n",
      "\n",
      "(3,)\n",
      "\n",
      "[[1]\n",
      " [2]\n",
      " [3]]\n",
      "2\n",
      "(3, 1)\n",
      "\n",
      "[[2 3 4]\n",
      " [3 4 5]\n",
      " [4 5 6]]\n"
     ]
    }
   ],
   "source": [
    "import numpy as np\n",
    "\n",
    "var1=np.array([1,2,3])\n",
    "print(var1)\n",
    "print()\n",
    "print(var1.shape)\n",
    "var2=np.array([[1],[2],[3]])\n",
    "print()\n",
    "print(var2)\n",
    "print(var2.ndim)\n",
    "print(var2.shape)\n",
    "print()\n",
    "print(var1+var2)"
   ]
  },
  {
   "cell_type": "code",
   "execution_count": 82,
   "id": "a78a1015",
   "metadata": {},
   "outputs": [
    {
     "name": "stdout",
     "output_type": "stream",
     "text": [
      "[[2]\n",
      " [3]]\n",
      "(2, 1)\n",
      "2\n",
      "\n",
      "[[1 2 3]\n",
      " [4 5 6]]\n",
      "(2, 3)\n",
      "2\n",
      "\n",
      "[[3 4 5]\n",
      " [7 8 9]]\n"
     ]
    }
   ],
   "source": [
    "x=np.array([[2],[3]])\n",
    "print(x)\n",
    "print(x.shape)\n",
    "print(x.ndim)\n",
    "print()\n",
    "y=np.array([[1,2,3],[4,5,6]])\n",
    "print(y)\n",
    "print(y.shape)\n",
    "print(y.ndim)\n",
    "print()\n",
    "print(x+y)"
   ]
  }
 ],
 "metadata": {
  "kernelspec": {
   "display_name": "Python 3 (ipykernel)",
   "language": "python",
   "name": "python3"
  },
  "language_info": {
   "codemirror_mode": {
    "name": "ipython",
    "version": 3
   },
   "file_extension": ".py",
   "mimetype": "text/x-python",
   "name": "python",
   "nbconvert_exporter": "python",
   "pygments_lexer": "ipython3",
   "version": "3.11.4"
  }
 },
 "nbformat": 4,
 "nbformat_minor": 5
}
