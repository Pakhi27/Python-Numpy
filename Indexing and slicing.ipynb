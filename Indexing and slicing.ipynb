{
 "cells": [
  {
   "cell_type": "markdown",
   "id": "e06e62ff",
   "metadata": {},
   "source": [
    "# Indexing and slicing in arrays"
   ]
  },
  {
   "cell_type": "markdown",
   "id": "3d796781",
   "metadata": {},
   "source": [
    "# indexing"
   ]
  },
  {
   "cell_type": "code",
   "execution_count": 1,
   "id": "787e3c89",
   "metadata": {},
   "outputs": [
    {
     "name": "stdout",
     "output_type": "stream",
     "text": [
      "[1 2 3 4]\n",
      "3\n",
      "3\n"
     ]
    }
   ],
   "source": [
    "import numpy as np\n",
    "x=np.array([1,2,3,4])\n",
    "print(x)\n",
    "print(x[-2])\n",
    "print(x[2])"
   ]
  },
  {
   "cell_type": "code",
   "execution_count": 10,
   "id": "d3043a85",
   "metadata": {},
   "outputs": [
    {
     "name": "stdout",
     "output_type": "stream",
     "text": [
      "[[9 8 7]\n",
      " [4 5 6]]\n",
      "(2, 3)\n",
      "2\n",
      "\n",
      "7\n"
     ]
    }
   ],
   "source": [
    "var1=np.array([[9,8,7],[4,5,6]])\n",
    "print(var1)\n",
    "print(var1.shape)\n",
    "print(var1.ndim)\n",
    "print()\n",
    "print(var1[0][2])"
   ]
  },
  {
   "cell_type": "code",
   "execution_count": 17,
   "id": "16712916",
   "metadata": {},
   "outputs": [
    {
     "name": "stdout",
     "output_type": "stream",
     "text": [
      "[[[1 2]\n",
      "  [3 4]]\n",
      "\n",
      " [[5 6]\n",
      "  [7 8]]]\n",
      "3\n",
      "4\n",
      "6\n"
     ]
    }
   ],
   "source": [
    "var2=np.array([[[1,2],[3,4]],[[5,6],[7,8]]])\n",
    "print(var2)\n",
    "print(var2.ndim)\n",
    "print(var2[0][1][1])\n",
    "print(var2[1][0][1])\n",
    "\n"
   ]
  },
  {
   "cell_type": "markdown",
   "id": "d24ecd75",
   "metadata": {},
   "source": [
    "# Slicing"
   ]
  },
  {
   "cell_type": "code",
   "execution_count": 26,
   "id": "53141a55",
   "metadata": {},
   "outputs": [
    {
     "name": "stdout",
     "output_type": "stream",
     "text": [
      "[1 2 3 4 5 6]\n",
      "2 to 5 [2 3 4 5]\n",
      "1 to 4 [1 2 3 4]\n",
      "2 to end [2 3 4 5 6]\n",
      "start to 5 [1 2 3 4 5]\n",
      "stop: [1 3 5]\n"
     ]
    }
   ],
   "source": [
    "import numpy as np\n",
    "x=np.array([1,2,3,4,5,6])\n",
    "#           0,1,2,3,4,5\n",
    "print(x)\n",
    "print(\"2 to 5\",x[1:5])\n",
    "print(\"1 to 4\",x[0:4])\n",
    "print(\"2 to end\",x[1:])\n",
    "print(\"start to 5\",x[:5])\n",
    "print(\"stop:\",x[:5:2])\n"
   ]
  },
  {
   "cell_type": "code",
   "execution_count": 35,
   "id": "813aae83",
   "metadata": {},
   "outputs": [
    {
     "name": "stdout",
     "output_type": "stream",
     "text": [
      "[[ 1  2  3  4  5]\n",
      " [ 9  8  7  6  5]\n",
      " [11 12 13 14 15]]\n",
      "2\n",
      "(3, 5)\n",
      "\n",
      "8 to 5 [8 7 6 5]\n",
      "8 to 6 [8 7 6]\n",
      "12 to 15 [12 13 14 15]\n"
     ]
    }
   ],
   "source": [
    "var1=np.array([[1,2,3,4,5],[9,8,7,6,5],[11,12,13,14,15]])\n",
    "print(var1)\n",
    "print(var1.ndim)\n",
    "print(var1.shape)\n",
    "print()\n",
    "print(\"8 to 5\",var1[1,1:])\n",
    "print(\"8 to 6\",var1[1,1:4])\n",
    "print(\"12 to 15\",var1[2,1:])\n"
   ]
  }
 ],
 "metadata": {
  "kernelspec": {
   "display_name": "Python 3 (ipykernel)",
   "language": "python",
   "name": "python3"
  },
  "language_info": {
   "codemirror_mode": {
    "name": "ipython",
    "version": 3
   },
   "file_extension": ".py",
   "mimetype": "text/x-python",
   "name": "python",
   "nbconvert_exporter": "python",
   "pygments_lexer": "ipython3",
   "version": "3.11.4"
  }
 },
 "nbformat": 4,
 "nbformat_minor": 5
}
